{
 "cells": [
  {
   "cell_type": "markdown",
   "id": "0ee7d744-91e5-448f-8893-c112c1da411b",
   "metadata": {},
   "source": [
    "# Data Science Tools and Ecosystem "
   ]
  },
  {
   "cell_type": "markdown",
   "id": "4be95eed-ea0d-4cbe-8656-4d453d53f5af",
   "metadata": {},
   "source": [
    "In this notebook, Data Science Tools and Ecosystem are summarized."
   ]
  },
  {
   "cell_type": "markdown",
   "id": "72f6924e-621d-427d-a209-f0538364dda7",
   "metadata": {},
   "source": [
    "Some of the popular languages that Data Scientists use are:\n",
    "\n",
    "1. Python\n",
    "2. R\n",
    "3. Julia"
   ]
  },
  {
   "cell_type": "markdown",
   "id": "9591ebdf-478e-45cd-8d1a-1eb7c12829cd",
   "metadata": {},
   "source": [
    "Some of the commonly used libraries used by Data Scientists include:\n",
    "1. pandas\n",
    "2. scikit-learn\n",
    "3. seaborn\n",
    "4. dlpyr\n",
    "5. caret\n",
    "6. ggplot"
   ]
  },
  {
   "cell_type": "markdown",
   "id": "33e53333-db13-44e2-9448-603c6d5bb7de",
   "metadata": {},
   "source": [
    "| Data Science Tools|\n",
    "|---|\n",
    "| RStudio |\n",
    "| JupyterLab |\n",
    "| GitHub |"
   ]
  },
  {
   "cell_type": "markdown",
   "id": "9516525d-1ddc-4e06-bf7d-a63e6aed0d8f",
   "metadata": {},
   "source": [
    "### Below are a few examples of evaluating arithmetic expressions in Python."
   ]
  },
  {
   "cell_type": "code",
   "execution_count": 1,
   "id": "2eb10e6e-44fd-4985-a97f-f811f7f47dd2",
   "metadata": {
    "tags": []
   },
   "outputs": [
    {
     "data": {
      "text/plain": [
       "17"
      ]
     },
     "execution_count": 1,
     "metadata": {},
     "output_type": "execute_result"
    }
   ],
   "source": [
    "# This a simple arithmetic expression to mutiply then add integers\n",
    "(3*4)+5"
   ]
  },
  {
   "cell_type": "code",
   "execution_count": 2,
   "id": "0925bc4e-4abc-4907-901f-25ee1f2950d6",
   "metadata": {
    "tags": []
   },
   "outputs": [
    {
     "data": {
      "text/plain": [
       "3"
      ]
     },
     "execution_count": 2,
     "metadata": {},
     "output_type": "execute_result"
    }
   ],
   "source": [
    "# This will convert 200 minutes to hours by diving by 60\n",
    "int(200/60)"
   ]
  },
  {
   "cell_type": "markdown",
   "id": "28e9ab74-ff76-4f04-b9dc-6669fbe77c6d",
   "metadata": {},
   "source": [
    "**Objectives:**\n",
    "* List popular languages for Data Science\n",
    "* List commonly used libraries for Data Science\n",
    "* LIst some data science tools\n",
    "* demo python arithmetic expressions"
   ]
  },
  {
   "cell_type": "markdown",
   "id": "ab4f55cf-05b8-4b36-be68-955674970e22",
   "metadata": {
    "tags": []
   },
   "source": [
    "## Author\n",
    "Weihao Ge"
   ]
  },
  {
   "cell_type": "code",
   "execution_count": null,
   "id": "b1a79948-550d-4d48-b109-bcc9cb87ab11",
   "metadata": {},
   "outputs": [],
   "source": []
  },
  {
   "cell_type": "code",
   "execution_count": null,
   "id": "0ef11073-46f6-42d3-96bb-a965bb2b47a9",
   "metadata": {},
   "outputs": [],
   "source": []
  }
 ],
 "metadata": {
  "kernelspec": {
   "display_name": "Python 3 (ipykernel)",
   "language": "python",
   "name": "python3"
  },
  "language_info": {
   "codemirror_mode": {
    "name": "ipython",
    "version": 3
   },
   "file_extension": ".py",
   "mimetype": "text/x-python",
   "name": "python",
   "nbconvert_exporter": "python",
   "pygments_lexer": "ipython3",
   "version": "3.8.17"
  }
 },
 "nbformat": 4,
 "nbformat_minor": 5
}
